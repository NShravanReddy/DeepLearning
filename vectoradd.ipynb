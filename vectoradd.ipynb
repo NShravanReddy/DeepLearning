{
  "cells": [
    {
      "cell_type": "markdown",
      "metadata": {
        "id": "view-in-github",
        "colab_type": "text"
      },
      "source": [
        "<a href=\"https://colab.research.google.com/github/NShravanReddy/DeepLearning/blob/main/vectoradd.ipynb\" target=\"_parent\"><img src=\"https://colab.research.google.com/assets/colab-badge.svg\" alt=\"Open In Colab\"/></a>"
      ]
    },
    {
      "cell_type": "code",
      "execution_count": 7,
      "metadata": {
        "id": "MVZYLBo-RGZt"
      },
      "outputs": [],
      "source": [
        "import torch"
      ]
    },
    {
      "cell_type": "code",
      "execution_count": 8,
      "metadata": {
        "id": "O5OG1HMMRGZw"
      },
      "outputs": [],
      "source": [
        "import triton\n",
        "import triton.language as tl\n",
        "\n",
        "DEVICE = 'cuda'\n",
        "\n",
        "@triton.jit\n",
        "def add_kernel(x_ptr,  # *Pointer* to first input vector.\n",
        "               y_ptr,  # *Pointer* to second input vector.\n",
        "               output_ptr,  # *Pointer* to output vector.\n",
        "               n_elements,  # Size of the vector.\n",
        "               BLOCK_SIZE: tl.constexpr,  # Number of elements each program should process.\n",
        "               # NOTE: `constexpr` so it can be used as a shape value.\n",
        "               ):\n",
        "    # There are multiple 'programs' processing different data. We identify which program\n",
        "    # we are here:\n",
        "    pid = tl.program_id(axis=0)  # We use a 1D launch grid so axis is 0.\n",
        "    # This program will process inputs that are offset from the initial data.\n",
        "    # For instance, if you had a vector of length 256 and block_size of 64, the programs\n",
        "    # would each access the elements [0:64, 64:128, 128:192, 192:256].\n",
        "    # Note that offsets is a list of pointers:\n",
        "    block_start = pid * BLOCK_SIZE\n",
        "    offsets = block_start + tl.arange(0, BLOCK_SIZE)\n",
        "    # Create a mask to guard memory operations against out-of-bounds accesses.\n",
        "    mask = offsets < n_elements\n",
        "    # Load x and y from DRAM, masking out any extra elements in case the input is not a\n",
        "    # multiple of the block size.\n",
        "    x = tl.load(x_ptr + offsets, mask=mask)\n",
        "    y = tl.load(y_ptr + offsets, mask=mask)\n",
        "    output = x + y\n",
        "    # Write x + y back to DRAM.\n",
        "    tl.store(output_ptr + offsets, output, mask=mask)"
      ]
    },
    {
      "cell_type": "code",
      "execution_count": 13,
      "metadata": {
        "id": "LvT00dxERGZy"
      },
      "outputs": [],
      "source": [
        "def add(x: torch.Tensor, y: torch.Tensor):\n",
        "    # We need to preallocate the output.\n",
        "    output = torch.empty_like(x)\n",
        "    assert x.is_cuda and y.is_cuda and output.is_cuda\n",
        "    n_elements = output.numel()\n",
        "    # The SPMD launch grid denotes the number of kernel instances that run in parallel.\n",
        "    # It is analogous to CUDA launch grids. It can be either Tuple[int], or Callable(metaparameters) -> Tuple[int].\n",
        "    # In this case, we use a 1D grid where the size is the number of blocks:\n",
        "    grid = lambda meta: (triton.cdiv(n_elements, meta['BLOCK_SIZE']), )\n",
        "    # NOTE:\n",
        "    #  - Each torch.tensor object is implicitly converted into a pointer to its first element.\n",
        "    #  - `triton.jit`'ed functions can be indexed with a launch grid to obtain a callable GPU kernel.\n",
        "    #  - Don't forget to pass meta-parameters as keywords arguments.\n",
        "    add_kernel[grid](x, y, output, n_elements, BLOCK_SIZE=1024)\n",
        "    # We return a handle to z but, since `torch.cuda.synchronize()` hasn't been called, the kernel is still\n",
        "    # running asynchronously at this point.\n",
        "    return output"
      ]
    },
    {
      "cell_type": "code",
      "execution_count": 15,
      "metadata": {
        "colab": {
          "base_uri": "https://localhost:8080/"
        },
        "id": "Xrs77CYsRGZy",
        "outputId": "52a1ca2c-f09d-484d-ba8f-609210b373eb"
      },
      "outputs": [
        {
          "output_type": "stream",
          "name": "stdout",
          "text": [
            "tensor([-0.7438, -0.9776, -1.7200,  ..., -0.8382, -0.7320,  1.9211],\n",
            "       device='cuda:0')\n",
            "tensor([-0.7438, -0.9776, -1.7200,  ..., -0.8382, -0.7320,  1.9211],\n",
            "       device='cuda:0')\n",
            "The maximum difference between torch and triton is 0.0\n"
          ]
        }
      ],
      "source": [
        "torch.manual_seed(0)\n",
        "size=98432\n",
        "x=torch.randn(size, device=DEVICE)\n",
        "y=torch.randn(size, device=DEVICE)\n",
        "output_torch=x+y\n",
        "output_triton=add(x,y)\n",
        "print(output_torch)\n",
        "print(output_triton)\n",
        "print(f'The maximum difference between torch and triton is '\n",
        "      f'{torch.max(torch.abs(output_torch - output_triton))}')"
      ]
    },
    {
      "cell_type": "code",
      "source": [
        "!python  /content/vector.py"
      ],
      "metadata": {
        "colab": {
          "base_uri": "https://localhost:8080/"
        },
        "id": "Xk63C9kiRL5u",
        "outputId": "30765b15-91cf-46ba-ebf7-564e41d4d23c"
      },
      "execution_count": 6,
      "outputs": [
        {
          "output_type": "stream",
          "name": "stdout",
          "text": [
            "tensor([1.3713, 1.3076, 0.4940,  ..., 0.4024, 1.7918, 1.0686], device='cuda:0')\n",
            "tensor([1.3713, 1.3076, 0.4940,  ..., 0.4024, 1.7918, 1.0686], device='cuda:0')\n",
            " The maximum difference between torch and triton is 0.0\n"
          ]
        }
      ]
    }
  ],
  "metadata": {
    "kernelspec": {
      "display_name": "Python 3",
      "name": "python3"
    },
    "language_info": {
      "codemirror_mode": {
        "name": "ipython",
        "version": 3
      },
      "file_extension": ".py",
      "mimetype": "text/x-python",
      "name": "python",
      "nbconvert_exporter": "python",
      "pygments_lexer": "ipython3",
      "version": "3.9.6"
    },
    "colab": {
      "provenance": [],
      "gpuType": "T4",
      "include_colab_link": true
    },
    "accelerator": "GPU"
  },
  "nbformat": 4,
  "nbformat_minor": 0
}