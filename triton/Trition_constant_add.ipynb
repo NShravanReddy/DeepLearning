{
  "nbformat": 4,
  "nbformat_minor": 0,
  "metadata": {
    "colab": {
      "provenance": [],
      "gpuType": "T4",
      "authorship_tag": "ABX9TyN3Rv6BBbWMDHiV6Ljqs0o/",
      "include_colab_link": true
    },
    "kernelspec": {
      "name": "python3",
      "display_name": "Python 3"
    },
    "language_info": {
      "name": "python"
    },
    "accelerator": "GPU"
  },
  "cells": [
    {
      "cell_type": "markdown",
      "metadata": {
        "id": "view-in-github",
        "colab_type": "text"
      },
      "source": [
        "<a href=\"https://colab.research.google.com/github/NShravanReddy/DeepLearning/blob/main/triton/Trition_constant_add.ipynb\" target=\"_parent\"><img src=\"https://colab.research.google.com/assets/colab-badge.svg\" alt=\"Open In Colab\"/></a>"
      ]
    },
    {
      "cell_type": "code",
      "execution_count": 5,
      "metadata": {
        "id": "sAfgkErZUi0e"
      },
      "outputs": [],
      "source": [
        "import torch\n",
        "import triton\n",
        "import triton.language as tl\n",
        "DEVICE='cuda'"
      ]
    },
    {
      "cell_type": "code",
      "source": [
        "@triton.jit\n",
        "def kernal(x_ptr,\n",
        "           constant,\n",
        "           y_ptr,\n",
        "           N0:tl.constexpr,\n",
        "           BLOCK_SIZE:tl.constexpr):\n",
        "  pid = tl.program_id(axis=0)\n",
        "  block_start = pid * BLOCK_SIZE\n",
        "  offsets = block_start + tl.arange(0, BLOCK_SIZE)\n",
        "  mask = offsets < N0\n",
        "  x= tl.load(x_ptr+offsets,mask=mask)\n",
        "  y=x+constant\n",
        "  tl.store(y_ptr+offsets,y,mask=mask)"
      ],
      "metadata": {
        "id": "7MfJq842U2c_"
      },
      "execution_count": 32,
      "outputs": []
    },
    {
      "cell_type": "code",
      "source": [
        "def constant_add(x: torch.Tensor, constant:float) ->torch.Tensor:\n",
        "  N0=x.numel()\n",
        "  BLOCK_SIZE=N0\n",
        "  y=torch.empty_like(x)\n",
        "  grid= lambda meta : (1,)\n",
        "  kernal[grid](x,constant,y,N0,BLOCK_SIZE=BLOCK_SIZE)\n",
        "  return y"
      ],
      "metadata": {
        "id": "7yPurSjoVAa_"
      },
      "execution_count": 33,
      "outputs": []
    },
    {
      "cell_type": "code",
      "source": [
        "if __name__== '__main__':\n",
        "  torch.manual_seed(0)\n",
        "  size=98432\n",
        "  N0=1024\n",
        "  x=torch.arange(0,N0,device=DEVICE,dtype=torch.float32)\n",
        "  constant = 3.0\n",
        "  y_torch = x+constant\n",
        "  y_triton=constant_add(x,constant)\n",
        "\n",
        "  print(abs(y_torch-y_triton))\n"
      ],
      "metadata": {
        "colab": {
          "base_uri": "https://localhost:8080/"
        },
        "id": "C_fU_p2uU5Xj",
        "outputId": "6815dd01-2408-4544-9458-3452826302ee"
      },
      "execution_count": 36,
      "outputs": [
        {
          "output_type": "stream",
          "name": "stdout",
          "text": [
            "tensor([0., 0., 0.,  ..., 0., 0., 0.], device='cuda:0')\n"
          ]
        }
      ]
    },
    {
      "cell_type": "code",
      "source": [
        "import torch\n",
        "import triton\n",
        "import triton.language as tl\n",
        "DEVICE='cuda'\n",
        "@triton.jit\n",
        "def constant_add_kernal(x_ptr,\n",
        "                        constant,\n",
        "                        y_ptr,\n",
        "                        N0,\n",
        "                        BLOCK_SIZE:tl.constexpr):\n",
        "  pid=tl.program_id(axis=0)\n",
        "  block_start= pid * BLOCK_SIZE\n",
        "  offsets = block_start + tl.arange(0,BLOCK_SIZE)\n",
        "  mask= offsets < N0\n",
        "  x= tl.load(x_ptr+offsets,mask=mask)\n",
        "  y= x+constant\n",
        "  tl.store(y_ptr+offsets,y,mask=mask)\n",
        "\n",
        "\n",
        "def constant_add_(x:torch.Tensor, constant:float) -> torch.Tensor:\n",
        "  N0=torch.empty_like(x)\n",
        "  n_elements=N0.numel()\n",
        "  y=torch.empty_like(x)\n",
        "  grid=lambda meta: (1,)\n",
        "  constant_add_kernal[grid](x,constant,y,n_elements,BLOCK_SIZE=1024)\n",
        "  return y\n",
        "\n",
        "if __name__=='__main__':\n",
        "  N0=1024\n",
        "  x=torch.arange(0,N0,device=DEVICE,dtype=torch.float32)\n",
        "  constant=3.0\n",
        "  y_torch=x+constant\n",
        "  y_triton=constant_add_(x,constant)\n",
        "  print(abs(y_torch-y_triton))"
      ],
      "metadata": {
        "colab": {
          "base_uri": "https://localhost:8080/"
        },
        "id": "CIaEhxc-qe7r",
        "outputId": "b1422ff6-d6e3-4896-9757-5e73257e6cdb"
      },
      "execution_count": 16,
      "outputs": [
        {
          "output_type": "stream",
          "name": "stdout",
          "text": [
            "tensor([0., 0., 0.,  ..., 0., 0., 0.], device='cuda:0')\n"
          ]
        }
      ]
    }
  ]
}