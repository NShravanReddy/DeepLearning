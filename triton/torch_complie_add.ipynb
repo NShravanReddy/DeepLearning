{
  "nbformat": 4,
  "nbformat_minor": 0,
  "metadata": {
    "colab": {
      "provenance": [],
      "gpuType": "T4",
      "authorship_tag": "ABX9TyMNbsPLtx5YxkzLYVpoOzYN",
      "include_colab_link": true
    },
    "kernelspec": {
      "name": "python3",
      "display_name": "Python 3"
    },
    "language_info": {
      "name": "python"
    },
    "accelerator": "GPU"
  },
  "cells": [
    {
      "cell_type": "markdown",
      "metadata": {
        "id": "view-in-github",
        "colab_type": "text"
      },
      "source": [
        "<a href=\"https://colab.research.google.com/github/NShravanReddy/DeepLearning/blob/main/triton/torch_complie_add.ipynb\" target=\"_parent\"><img src=\"https://colab.research.google.com/assets/colab-badge.svg\" alt=\"Open In Colab\"/></a>"
      ]
    },
    {
      "cell_type": "code",
      "source": [
        "import triton\n",
        "import triton.language as tl\n",
        "import torch\n",
        "import time\n",
        "DEVICE='cuda'\n",
        "@triton.jit\n",
        "\n",
        "def t_a_k(x_ptr,\n",
        "          y_ptr,\n",
        "          output_ptr,\n",
        "          N0,\n",
        "          BLOCK_SIZE:tl.constexpr):\n",
        "    pid=tl.program_id(axis=0)\n",
        "    block_start= pid* BLOCK_SIZE\n",
        "    offsets = block_start + tl.arange(0,BLOCK_SIZE)\n",
        "    mask= offsets<N0\n",
        "    x=tl.load(x_ptr+offsets,mask=mask)\n",
        "    y=tl.load(y_ptr+offsets,mask=mask)\n",
        "    output=x+y\n",
        "    output=tl.store(output_ptr+offsets,output,mask=mask)\n",
        "\n",
        "@torch.compile(fullgraph=True)\n",
        "def t_a_k_h(x:torch.Tensor,y:torch.Tensor,BLOCK_SIZE=1024) -> torch.Tensor:\n",
        "    output=torch.empty_like(x)\n",
        "    N0=x.numel()\n",
        "    grid=lambda meta:(triton.cdiv(N0,meta['BLOCK_SIZE']),)\n",
        "    t_a_k[grid](x,y,output,N0,BLOCK_SIZE=BLOCK_SIZE)\n",
        "    return output\n",
        "\n",
        "def benchmark(func, *args, n_warmup=10, n_iters=100):\n",
        "    for _ in range(n_warmup):\n",
        "        func(*args)\n",
        "    torch.cuda.synchronize()\n",
        "    start = time.perf_counter()\n",
        "    for _ in range(n_iters):\n",
        "        func(*args)\n",
        "    torch.cuda.synchronize()\n",
        "    end = time.perf_counter()\n",
        "    return (end - start) / n_iters * 1000\n",
        "\n",
        "if __name__=='__main__':\n",
        "  N0=1024\n",
        "  x=torch.arange(0,N0,device=DEVICE,dtype=torch.float32)\n",
        "  y=torch.arange(0,N0,device=DEVICE,dtype=torch.float32)\n",
        "  add=x+y\n",
        "  y_triton=t_a_k_h(x,y)\n",
        "  print((add,y_triton))\n",
        "\n",
        "\n",
        "  BLOCK_SIZE=1024\n",
        "  x_torch = x.detach().clone().requires_grad_()\n",
        "  y_torch = y.detach().clone().requires_grad_()\n",
        "  add=x+y\n",
        "  y_triton=t_a_k_h(x,y)\n",
        "\n",
        "  triton_time = benchmark(lambda: t_a_k_h(x, y))\n",
        "  torch_time = benchmark(lambda: x+y)\n",
        "  print(f\"Average execution time (Forward Pass):\")\n",
        "  print(f\"  Triton  = {triton_time:.3f} ms\")\n",
        "  print(f\"  PyTorch = {torch_time:.3f} ms\")"
      ],
      "metadata": {
        "colab": {
          "base_uri": "https://localhost:8080/"
        },
        "id": "DxNoZSCTqAKq",
        "outputId": "5e87ddd6-c5a7-4958-8abd-2b3b5701132c"
      },
      "execution_count": 7,
      "outputs": [
        {
          "output_type": "stream",
          "name": "stdout",
          "text": [
            "(tensor([0.0000e+00, 2.0000e+00, 4.0000e+00,  ..., 2.0420e+03, 2.0440e+03,\n",
            "        2.0460e+03], device='cuda:0'), tensor([0.0000e+00, 2.0000e+00, 4.0000e+00,  ..., 2.0420e+03, 2.0440e+03,\n",
            "        2.0460e+03], device='cuda:0'))\n",
            "Average execution time (Forward Pass):\n",
            "  Triton  = 0.049 ms\n",
            "  PyTorch = 0.008 ms\n"
          ]
        }
      ]
    }
  ]
}