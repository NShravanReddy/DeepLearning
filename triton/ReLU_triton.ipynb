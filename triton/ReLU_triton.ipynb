{
  "nbformat": 4,
  "nbformat_minor": 0,
  "metadata": {
    "colab": {
      "provenance": [],
      "gpuType": "T4",
      "authorship_tag": "ABX9TyNlOfmGLMth7CsDOk75JfQx",
      "include_colab_link": true
    },
    "kernelspec": {
      "name": "python3",
      "display_name": "Python 3"
    },
    "language_info": {
      "name": "python"
    },
    "accelerator": "GPU"
  },
  "cells": [
    {
      "cell_type": "markdown",
      "metadata": {
        "id": "view-in-github",
        "colab_type": "text"
      },
      "source": [
        "<a href=\"https://colab.research.google.com/github/NShravanReddy/DeepLearning/blob/main/triton/ReLU_triton.ipynb\" target=\"_parent\"><img src=\"https://colab.research.google.com/assets/colab-badge.svg\" alt=\"Open In Colab\"/></a>"
      ]
    },
    {
      "cell_type": "code",
      "execution_count": 2,
      "metadata": {
        "id": "sWf-irinug_k"
      },
      "outputs": [],
      "source": [
        "import torch\n",
        "import triton\n",
        "import triton.language as tl\n",
        "DEVICE='cuda'"
      ]
    },
    {
      "cell_type": "code",
      "source": [
        "@triton.jit\n",
        "def t_k(x_ptr,\n",
        "        y_ptr,\n",
        "        N0,\n",
        "        BLOCK_SIZE:tl.constexpr):\n",
        "  pid=tl.program_id(axis=0)\n",
        "  block_start= BLOCK_SIZE * pid\n",
        "  offsets = block_start+ tl.arange(0,BLOCK_SIZE)\n",
        "  mask= offsets < N0\n",
        "  x=tl.load(x_ptr+offsets,mask=mask)\n",
        "  y=tl.maximum(x,0.0)\n",
        "  tl.store(y_ptr+offsets,y,mask=mask)"
      ],
      "metadata": {
        "id": "NVqRN5aTuyQv"
      },
      "execution_count": 16,
      "outputs": []
    },
    {
      "cell_type": "code",
      "source": [
        "def t_r_h(x:torch.Tensor, BLOCK_SIZE : int=32) ->torch.Tensor:\n",
        "  N0=x.numel()\n",
        "  y=torch.empty_like(x)\n",
        "  grid= lambda meta :(triton.cdiv(N0,meta['BLOCK_SIZE']),)\n",
        "  t_k[grid](x,y,N0,BLOCK_SIZE=BLOCK_SIZE)\n",
        "  return y"
      ],
      "metadata": {
        "id": "u9wp2eO0u3j2"
      },
      "execution_count": 17,
      "outputs": []
    },
    {
      "cell_type": "code",
      "source": [
        "if __name__ == '__main__':\n",
        "    # Create an example input vector on the GPU.\n",
        "    N = 1024 * 1024  # For instance, 1 million elements.\n",
        "    x = torch.randn(N, device='cuda', dtype=torch.float32)\n",
        "\n",
        "    # Apply ReLU using the Triton kernel.\n",
        "    y_triton = t_r_h(x)\n",
        "\n",
        "    # Apply ReLU using PyTorch for validation.\n",
        "    y_torch = torch.relu(x)\n",
        "    print(y_torch)\n",
        "    print(y_triton)\n",
        "    print(abs(y_triton-y_torch))"
      ],
      "metadata": {
        "colab": {
          "base_uri": "https://localhost:8080/"
        },
        "id": "RngoFdWBwhxo",
        "outputId": "040f59c1-0a3f-4b2a-c46f-967977d52435"
      },
      "execution_count": 20,
      "outputs": [
        {
          "output_type": "stream",
          "name": "stdout",
          "text": [
            "tensor([0.0510, 1.4117, 1.1519,  ..., 0.0000, 0.0833, 0.0000], device='cuda:0')\n",
            "tensor([0.0510, 1.4117, 1.1519,  ..., 0.0000, 0.0833, 0.0000], device='cuda:0')\n",
            "tensor([0., 0., 0.,  ..., 0., 0., 0.], device='cuda:0')\n"
          ]
        }
      ]
    }
  ]
}