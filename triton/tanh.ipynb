{
  "nbformat": 4,
  "nbformat_minor": 0,
  "metadata": {
    "colab": {
      "provenance": [],
      "gpuType": "T4",
      "authorship_tag": "ABX9TyOg2Gd62q2XtvREq/uPUYc/",
      "include_colab_link": true
    },
    "kernelspec": {
      "name": "python3",
      "display_name": "Python 3"
    },
    "language_info": {
      "name": "python"
    },
    "accelerator": "GPU"
  },
  "cells": [
    {
      "cell_type": "markdown",
      "metadata": {
        "id": "view-in-github",
        "colab_type": "text"
      },
      "source": [
        "<a href=\"https://colab.research.google.com/github/NShravanReddy/DeepLearning/blob/main/triton/tanh.ipynb\" target=\"_parent\"><img src=\"https://colab.research.google.com/assets/colab-badge.svg\" alt=\"Open In Colab\"/></a>"
      ]
    },
    {
      "cell_type": "code",
      "execution_count": 9,
      "metadata": {
        "colab": {
          "base_uri": "https://localhost:8080/"
        },
        "id": "4wuZi_7zEP0S",
        "outputId": "d94fceb1-fbdc-496c-a863-de3f0576c85b"
      },
      "outputs": [
        {
          "output_type": "stream",
          "name": "stdout",
          "text": [
            "tensor([ 0.8139,  0.6383, -0.7585,  ..., -0.7062, -0.6467, -0.9629],\n",
            "       device='cuda:0')\n",
            "tensor([ 0.8139,  0.6383, -0.7585,  ..., -0.7062, -0.6467, -0.9629],\n",
            "       device='cuda:0')\n",
            "tensor([0.0000e+00, 0.0000e+00, 0.0000e+00,  ..., 0.0000e+00, 0.0000e+00,\n",
            "        5.9605e-08], device='cuda:0')\n"
          ]
        }
      ],
      "source": [
        "import triton\n",
        "import triton.language as tl\n",
        "import torch\n",
        "import time\n",
        "import torch.nn as nn\n",
        "\n",
        "@triton.jit\n",
        "def t_t_k(x_ptr,\n",
        "          y_ptr,\n",
        "          N0,\n",
        "          BLOCK_SIZE:tl.constexpr):\n",
        "    pid=tl.program_id(axis=0)\n",
        "    block_start= pid* BLOCK_SIZE\n",
        "    offsets= block_start + tl.arange(0,BLOCK_SIZE)\n",
        "    mask= offsets<N0\n",
        "    x=tl.load(x_ptr+offsets,mask=mask)\n",
        "    exp_2x = tl.exp(2 * x)\n",
        "    y = (exp_2x - 1) / (exp_2x + 1)\n",
        "    tl.store(y_ptr+offsets,y,mask=mask)\n",
        "\n",
        "def t_t_k_h(x:torch.Tensor,BLOCK_SIZE=1024)->torch.Tensor:\n",
        "    y=torch.empty_like(x)\n",
        "    N0=x.numel()\n",
        "    grid= lambda meta:(triton.cdiv(N0,meta['BLOCK_SIZE']),)\n",
        "    t_t_k[grid](x,y,N0,BLOCK_SIZE=BLOCK_SIZE)\n",
        "    return y\n",
        "\n",
        "def benchmark(func, *args, n_warmup=10, n_iters=100):\n",
        "    for _ in range(n_warmup):\n",
        "        func(*args)\n",
        "    torch.cuda.synchronize()\n",
        "    start = time.perf_counter()\n",
        "    for _ in range(n_iters):\n",
        "        func(*args)\n",
        "    torch.cuda.synchronize()\n",
        "    end = time.perf_counter()\n",
        "    return (end - start) / n_iters * 1000\n",
        "\n",
        "\n",
        "if __name__=='__main__':\n",
        "  N=1024*1024\n",
        "  x=torch.randn(N, device='cuda', dtype=torch.float32)\n",
        "\n",
        "  y_triton=t_t_k_h(x)\n",
        "  tanh = nn.Tanh()\n",
        "  y_torch = tanh(x)\n",
        "\n",
        "  print(y_torch)\n",
        "  print(y_triton)\n",
        "  print(abs(y_torch-y_triton))"
      ]
    }
  ]
}