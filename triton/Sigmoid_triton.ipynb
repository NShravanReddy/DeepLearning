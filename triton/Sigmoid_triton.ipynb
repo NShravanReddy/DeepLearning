{
  "nbformat": 4,
  "nbformat_minor": 0,
  "metadata": {
    "colab": {
      "provenance": [],
      "gpuType": "T4",
      "authorship_tag": "ABX9TyNkdzoUxXV4dT02nk5NQ5NL",
      "include_colab_link": true
    },
    "kernelspec": {
      "name": "python3",
      "display_name": "Python 3"
    },
    "language_info": {
      "name": "python"
    },
    "accelerator": "GPU"
  },
  "cells": [
    {
      "cell_type": "markdown",
      "metadata": {
        "id": "view-in-github",
        "colab_type": "text"
      },
      "source": [
        "<a href=\"https://colab.research.google.com/github/NShravanReddy/DeepLearning/blob/main/triton/Sigmoid_triton.ipynb\" target=\"_parent\"><img src=\"https://colab.research.google.com/assets/colab-badge.svg\" alt=\"Open In Colab\"/></a>"
      ]
    },
    {
      "cell_type": "code",
      "execution_count": null,
      "metadata": {
        "colab": {
          "base_uri": "https://localhost:8080/"
        },
        "id": "HXa0bte_Z3yk",
        "outputId": "569a4587-acfb-49e3-c4b6-217db12fdc7b"
      },
      "outputs": [
        {
          "output_type": "stream",
          "name": "stdout",
          "text": [
            "tensor([0.5933, 0.0790, 0.2378,  ..., 0.7168, 0.7342, 0.3745], device='cuda:0')\n",
            "tensor([0.5933, 0.0790, 0.2378,  ..., 0.7168, 0.7342, 0.3745], device='cuda:0')\n",
            "tensor([0.0000e+00, 0.0000e+00, 0.0000e+00,  ..., 0.0000e+00, 0.0000e+00,\n",
            "        2.9802e-08], device='cuda:0')\n"
          ]
        }
      ],
      "source": [
        "import triton\n",
        "import triton.language as tl\n",
        "import torch.nn as nn\n",
        "import torch\n",
        "import time\n",
        "\n",
        "@triton.jit\n",
        "def t_s_k(x_ptr,\n",
        "          y_ptr,\n",
        "          N0,\n",
        "          BLOCK_SIZE: tl.constexpr):\n",
        "    pid=tl.program_id(axis=0)\n",
        "    block_start= pid* BLOCK_SIZE\n",
        "    offsets= block_start+ tl.arange(0,BLOCK_SIZE)\n",
        "    mask= offsets< N0\n",
        "    x=tl.load(x_ptr+offsets,mask=mask)\n",
        "    y= 1/ (1+tl.exp(-x))\n",
        "    tl.store(y_ptr+offsets,y,mask=mask)\n",
        "\n",
        "\n",
        "def t_s_k_h(x:torch.Tensor, BLOCK_SIZE=1024) ->torch.Tensor:\n",
        "    y=torch.empty_like(x)\n",
        "    N0=x.numel()\n",
        "    grid= lambda meta:(triton.cdiv(N0,meta['BLOCK_SIZE']),)\n",
        "    t_s_k[grid](x,y,N0,BLOCK_SIZE=BLOCK_SIZE)\n",
        "    return y\n",
        "\n",
        "def benchmark(func, *args, n_warmup=10, n_iters=100):\n",
        "    for _ in range(n_warmup):\n",
        "        func(*args)\n",
        "    torch.cuda.synchronize()\n",
        "    start = time.perf_counter()\n",
        "    for _ in range(n_iters):\n",
        "        func(*args)\n",
        "    torch.cuda.synchronize()\n",
        "    end = time.perf_counter()\n",
        "    return (end - start) / n_iters * 1000\n",
        "\n",
        "\n",
        "def benchmark(func, *args, n_warmup=10, n_iters=100):\n",
        "    for _ in range(n_warmup):\n",
        "        func(*args)\n",
        "    torch.cuda.synchronize()\n",
        "    start = time.perf_counter()\n",
        "    for _ in range(n_iters):\n",
        "        func(*args)\n",
        "    torch.cuda.synchronize()\n",
        "    end = time.perf_counter()\n",
        "    return (end - start) / n_iters * 1000\n",
        "\n",
        "\n",
        "if __name__=='__main__':\n",
        "  N=1024*1024\n",
        "  x=torch.randn(N, device='cuda', dtype=torch.float32)\n",
        "\n",
        "  y_triton=t_s_k_h(x)\n",
        "  Sigmoid = nn.Sigmoid()\n",
        "  y_torch = Sigmoid(x)\n",
        "\n",
        "  print(y_torch)\n",
        "  print(y_triton)\n",
        "  print(abs(y_torch-y_triton))\n",
        "  #Benchmarking forward pass\n",
        "  BLOCK_SIZE=1024**2\n",
        "  x_torch = x.detach().clone().requires_grad_()\n",
        "  Sigmoid = nn.Sigmoid()\n",
        "  y_torch = Sigmoid(x)\n",
        "  triton_time = benchmark(lambda: t_s_k_h(x, BLOCK_SIZE))\n",
        "  torch_time = benchmark(lambda: Sigmoid(x))\n",
        "  print(f\"Average execution time (Forward Pass):\")\n",
        "  print(f\"  Triton ReLU = {triton_time:.3f} ms\")\n",
        "  print(f\"  PyTorch ReLU = {torch_time:.3f} ms\")"
      ]
    },
    {
      "cell_type": "code",
      "source": [],
      "metadata": {
        "id": "rJ6JP0pMaKgc"
      },
      "execution_count": null,
      "outputs": []
    }
  ]
}