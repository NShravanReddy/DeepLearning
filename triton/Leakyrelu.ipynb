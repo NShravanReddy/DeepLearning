{
  "nbformat": 4,
  "nbformat_minor": 0,
  "metadata": {
    "colab": {
      "provenance": [],
      "gpuType": "T4",
      "authorship_tag": "ABX9TyMJ9clfuefEC/t35FYlPHEK",
      "include_colab_link": true
    },
    "kernelspec": {
      "name": "python3",
      "display_name": "Python 3"
    },
    "language_info": {
      "name": "python"
    },
    "accelerator": "GPU"
  },
  "cells": [
    {
      "cell_type": "markdown",
      "metadata": {
        "id": "view-in-github",
        "colab_type": "text"
      },
      "source": [
        "<a href=\"https://colab.research.google.com/github/NShravanReddy/DeepLearning/blob/main/triton/Leakyrelu.ipynb\" target=\"_parent\"><img src=\"https://colab.research.google.com/assets/colab-badge.svg\" alt=\"Open In Colab\"/></a>"
      ]
    },
    {
      "cell_type": "code",
      "execution_count": 31,
      "metadata": {
        "colab": {
          "base_uri": "https://localhost:8080/"
        },
        "id": "VH_TV6_sdMwQ",
        "outputId": "f6e4f129-5c89-4f7f-d8b2-fe260d6a8bcb"
      },
      "outputs": [
        {
          "output_type": "stream",
          "name": "stdout",
          "text": [
            "tensor([0.9771, 0.3991, 0.5841,  ..., 1.3277, 2.1393, 1.4810], device='cuda:0')\n",
            "tensor([0.9771, 0.3991, 0.5841,  ..., 1.3277, 2.1393, 1.4810], device='cuda:0')\n",
            "tensor([0., 0., 0.,  ..., 0., 0., 0.], device='cuda:0')\n"
          ]
        }
      ],
      "source": [
        "import triton\n",
        "import triton.language as tl\n",
        "import torch\n",
        "import torch.nn as nn\n",
        "DEVICE = 'cuda'\n",
        "\n",
        "\n",
        "@triton.jit\n",
        "def l_r_k(x_ptr,\n",
        "          y_ptr,\n",
        "          alpha,\n",
        "          N0,\n",
        "          BLOCK_SIZE:tl.constexpr):\n",
        "\n",
        "  pid=tl.program_id(axis=0)\n",
        "  block_start= BLOCK_SIZE * pid\n",
        "  offsets = block_start + tl.arange(0, BLOCK_SIZE)\n",
        "  mask = offsets < N0\n",
        "  x=tl.load(x_ptr+offsets,mask=mask)\n",
        "  y=tl.maximum(x,alpha * x)\n",
        "  tl.store(y_ptr+offsets,y,mask=mask)\n",
        "\n",
        "\n",
        "\n",
        "def l_r_k_h(x:torch.Tensor,alpha:float=1, BLOCK_SIZE=1024)->torch.Tensor:\n",
        "  y=torch.empty_like(x)\n",
        "  N0=x.numel()\n",
        "  grid= lambda meta :(triton.cdiv(N0,meta['BLOCK_SIZE']),)\n",
        "  assert x.is_cuda and y.is_cuda\n",
        "  l_r_k[grid](x,y,alpha,N0,BLOCK_SIZE=BLOCK_SIZE)\n",
        "  return y,alpha\n",
        "\n",
        "if __name__=='__main__':\n",
        "  N=1024*1024\n",
        "  x=torch.randn(N, device='cuda', dtype=torch.float32)\n",
        "\n",
        "  y_triton,alpha=l_r_k_h(x)\n",
        "  leaky_relu = nn.LeakyReLU(negative_slope=alpha)\n",
        "  y_torch = leaky_relu(x)\n",
        "\n",
        "  print(y_torch)\n",
        "  print(y_triton)\n",
        "  print(abs(y_torch-y_triton))"
      ]
    },
    {
      "cell_type": "code",
      "source": [],
      "metadata": {
        "id": "ATT5AQ8hjQPn"
      },
      "execution_count": null,
      "outputs": []
    }
  ]
}