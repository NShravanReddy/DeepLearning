{
  "nbformat": 4,
  "nbformat_minor": 0,
  "metadata": {
    "colab": {
      "provenance": [],
      "gpuType": "T4",
      "authorship_tag": "ABX9TyNrWEdQDrS7Kwn0uc5HJyoc",
      "include_colab_link": true
    },
    "kernelspec": {
      "name": "python3",
      "display_name": "Python 3"
    },
    "language_info": {
      "name": "python"
    },
    "accelerator": "GPU"
  },
  "cells": [
    {
      "cell_type": "markdown",
      "metadata": {
        "id": "view-in-github",
        "colab_type": "text"
      },
      "source": [
        "<a href=\"https://colab.research.google.com/github/NShravanReddy/DeepLearning/blob/main/triton/Relu_benchmark.ipynb\" target=\"_parent\"><img src=\"https://colab.research.google.com/assets/colab-badge.svg\" alt=\"Open In Colab\"/></a>"
      ]
    },
    {
      "cell_type": "code",
      "execution_count": 19,
      "metadata": {
        "id": "5aZvr3nH1dHa",
        "colab": {
          "base_uri": "https://localhost:8080/",
          "height": 328
        },
        "outputId": "70d0812b-3056-47ef-e9df-d0c44568e8fc"
      },
      "outputs": [
        {
          "output_type": "error",
          "ename": "RuntimeError",
          "evalue": "CUDA error: an illegal memory access was encountered\nCUDA kernel errors might be asynchronously reported at some other API call, so the stacktrace below might be incorrect.\nFor debugging consider passing CUDA_LAUNCH_BLOCKING=1\nCompile with `TORCH_USE_CUDA_DSA` to enable device-side assertions.\n",
          "traceback": [
            "\u001b[0;31m---------------------------------------------------------------------------\u001b[0m",
            "\u001b[0;31mRuntimeError\u001b[0m                              Traceback (most recent call last)",
            "\u001b[0;32m<ipython-input-19-9878fe1296ba>\u001b[0m in \u001b[0;36m<cell line: 0>\u001b[0;34m()\u001b[0m\n\u001b[1;32m     72\u001b[0m     \u001b[0mtorch\u001b[0m\u001b[0;34m.\u001b[0m\u001b[0mcuda\u001b[0m\u001b[0;34m.\u001b[0m\u001b[0mempty_cache\u001b[0m\u001b[0;34m(\u001b[0m\u001b[0;34m)\u001b[0m\u001b[0;34m\u001b[0m\u001b[0;34m\u001b[0m\u001b[0m\n\u001b[1;32m     73\u001b[0m \u001b[0;34m\u001b[0m\u001b[0m\n\u001b[0;32m---> 74\u001b[0;31m     \u001b[0mx\u001b[0m \u001b[0;34m=\u001b[0m \u001b[0mtorch\u001b[0m\u001b[0;34m.\u001b[0m\u001b[0mrandn\u001b[0m\u001b[0;34m(\u001b[0m\u001b[0mN\u001b[0m\u001b[0;34m,\u001b[0m \u001b[0mdevice\u001b[0m\u001b[0;34m=\u001b[0m\u001b[0;34m'cuda'\u001b[0m\u001b[0;34m,\u001b[0m \u001b[0mdtype\u001b[0m\u001b[0;34m=\u001b[0m\u001b[0mtorch\u001b[0m\u001b[0;34m.\u001b[0m\u001b[0mfloat32\u001b[0m\u001b[0;34m,\u001b[0m\u001b[0mrequires_grad\u001b[0m\u001b[0;34m=\u001b[0m\u001b[0;32mTrue\u001b[0m\u001b[0;34m)\u001b[0m\u001b[0;34m\u001b[0m\u001b[0;34m\u001b[0m\u001b[0m\n\u001b[0m\u001b[1;32m     75\u001b[0m     \u001b[0mBLOCK_SIZE\u001b[0m\u001b[0;34m=\u001b[0m\u001b[0;36m1024\u001b[0m\u001b[0;34m\u001b[0m\u001b[0;34m\u001b[0m\u001b[0m\n\u001b[1;32m     76\u001b[0m     \u001b[0my_triton\u001b[0m \u001b[0;34m=\u001b[0m \u001b[0mt_r\u001b[0m\u001b[0;34m(\u001b[0m\u001b[0mx\u001b[0m\u001b[0;34m,\u001b[0m \u001b[0mBLOCK_SIZE\u001b[0m\u001b[0;34m)\u001b[0m\u001b[0;34m\u001b[0m\u001b[0;34m\u001b[0m\u001b[0m\n",
            "\u001b[0;31mRuntimeError\u001b[0m: CUDA error: an illegal memory access was encountered\nCUDA kernel errors might be asynchronously reported at some other API call, so the stacktrace below might be incorrect.\nFor debugging consider passing CUDA_LAUNCH_BLOCKING=1\nCompile with `TORCH_USE_CUDA_DSA` to enable device-side assertions.\n"
          ]
        }
      ],
      "source": [
        "import torch\n",
        "import triton\n",
        "import triton.language as tl\n",
        "import time\n",
        "torch.cuda.empty_cache()\n",
        "@triton.jit\n",
        "def r_f_k(x_ptr,\n",
        "          y_ptr,\n",
        "          N:tl.constexpr,\n",
        "          BLOCK_SIZE:tl.constexpr):\n",
        "    pid=tl.program_id(0)\n",
        "    block_start=pid*BLOCK_SIZE\n",
        "    offsets= block_start+tl.arange(0,BLOCK_SIZE)\n",
        "    mask = offsets<N\n",
        "    x=tl.load(x_ptr+offsets,mask=mask)\n",
        "    y=tl.maximum(x,0.0)\n",
        "    tl.store(y_ptr+offsets,y,mask=mask)\n",
        "\n",
        "@triton.jit\n",
        "def r_b_k(x_ptr,\n",
        "          grad_output_ptr,\n",
        "          grad_input_ptr,\n",
        "          N:tl.constexpr,\n",
        "          BLOCK_SIZE:tl.constexpr):\n",
        "    pid=tl.program_id(0)\n",
        "    block_start= pid*BLOCK_SIZE\n",
        "    offsets = block_start+tl.arange(0,BLOCK_SIZE)\n",
        "    mask= offsets< N\n",
        "    x=tl.load(x_ptr+offsets,mask=mask)\n",
        "    grad_out=tl.load(grad_output_ptr+offsets,mask=mask)\n",
        "    grad_in=tl.where(x>0,grad_out,0.0)\n",
        "    tl.store(grad_input_ptr+offsets,grad_in,mask=mask)\n",
        "\n",
        "class TRF(torch.autograd.Function):\n",
        "    @staticmethod\n",
        "    def forward(ctx,x:torch.Tensor,BLOCK_SIZE: int=1024)->torch.Tensor:\n",
        "        N=x.numel()\n",
        "        y=torch.empty_like(x)\n",
        "        grid=lambda meta: (triton.cdiv(N,meta['BLOCK_SIZE']),)\n",
        "        r_f_k[grid](x,y,N,BLOCK_SIZE=BLOCK_SIZE)\n",
        "        ctx.save_for_backward(x)\n",
        "        ctx.BLOCK_SIZE=BLOCK_SIZE\n",
        "        return y\n",
        "\n",
        "    @staticmethod\n",
        "    def backward(ctx,grad_output:torch.Tensor)->tuple:\n",
        "        x,=ctx.saved_tensors\n",
        "        N=x.numel()\n",
        "        grad_input=torch.empty_like(x)\n",
        "\n",
        "        grid = lambda meta: (triton.cdiv(N, meta['BLOCK_SIZE']),)\n",
        "        BLOCK_SIZE=ctx.BLOCK_SIZE\n",
        "        r_b_k[grid](x,grad_output,grad_input,N,BLOCK_SIZE=BLOCK_SIZE)\n",
        "        return grad_input, None\n",
        "\n",
        "def t_r(x:torch.Tensor,BLOCK_SIZE:int =1024) -> torch.Tensor:\n",
        "    return TRF.apply(x,BLOCK_SIZE)\n",
        "\n",
        "\n",
        "def benchmark(func, *args, n_warmup=10, n_iters=100):\n",
        "    for _ in range(n_warmup):\n",
        "        func(*args)\n",
        "    torch.cuda.synchronize()\n",
        "    start = time.perf_counter()\n",
        "    for _ in range(n_iters):\n",
        "        func(*args)\n",
        "    torch.cuda.synchronize()\n",
        "    end = time.perf_counter()\n",
        "    return (end - start) / n_iters * 1000\n",
        "if __name__=='__main__':\n",
        "    N=1024 * 1024\n",
        "    torch.cuda.empty_cache()\n",
        "\n",
        "    x = torch.randn(N, device='cuda', dtype=torch.float32,requires_grad=True)\n",
        "    BLOCK_SIZE=1024\n",
        "    y_triton = t_r(x, BLOCK_SIZE)\n",
        "    loss_triton = y_triton.sum()\n",
        "    loss_triton.backward()\n",
        "\n",
        "\n",
        "    x_torch = x.detach().clone().requires_grad_()\n",
        "    y_torch = torch.relu(x_torch)\n",
        "    loss_torch = y_torch.sum()\n",
        "    loss_torch.backward()\n",
        "    triton_time = benchmark(lambda: triton_relu(x, BLOCK_SIZE))\n",
        "    torch_time = benchmark(lambda: torch.relu(x))\n",
        "    print(f\"Average execution time (Forward Pass):\")\n",
        "    print(f\"  Triton ReLU = {triton_time:.3f} ms\")\n",
        "    print(f\"  PyTorch ReLU = {torch_time:.3f} ms\")\n",
        "\n"
      ]
    }
  ]
}