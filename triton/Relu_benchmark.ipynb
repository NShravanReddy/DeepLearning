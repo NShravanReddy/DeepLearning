{
  "cells": [
    {
      "cell_type": "markdown",
      "metadata": {
        "colab_type": "text",
        "id": "view-in-github"
      },
      "source": [
        "<a href=\"https://colab.research.google.com/github/NShravanReddy/DeepLearning/blob/main/triton/Relu_benchmark.ipynb\" target=\"_parent\"><img src=\"https://colab.research.google.com/assets/colab-badge.svg\" alt=\"Open In Colab\"/></a>"
      ]
    },
    {
      "cell_type": "code",
      "execution_count": null,
      "metadata": {
        "colab": {
          "base_uri": "https://localhost:8080/",
          "height": 328
        },
        "id": "5aZvr3nH1dHa",
        "outputId": "70d0812b-3056-47ef-e9df-d0c44568e8fc"
      },
      "outputs": [
        {
          "ename": "RuntimeError",
          "evalue": "CUDA error: an illegal memory access was encountered\nCUDA kernel errors might be asynchronously reported at some other API call, so the stacktrace below might be incorrect.\nFor debugging consider passing CUDA_LAUNCH_BLOCKING=1\nCompile with `TORCH_USE_CUDA_DSA` to enable device-side assertions.\n",
          "output_type": "error",
          "traceback": [
            "\u001b[0;31m---------------------------------------------------------------------------\u001b[0m",
            "\u001b[0;31mRuntimeError\u001b[0m                              Traceback (most recent call last)",
            "\u001b[0;32m<ipython-input-19-9878fe1296ba>\u001b[0m in \u001b[0;36m<cell line: 0>\u001b[0;34m()\u001b[0m\n\u001b[1;32m     72\u001b[0m     \u001b[0mtorch\u001b[0m\u001b[0;34m.\u001b[0m\u001b[0mcuda\u001b[0m\u001b[0;34m.\u001b[0m\u001b[0mempty_cache\u001b[0m\u001b[0;34m(\u001b[0m\u001b[0;34m)\u001b[0m\u001b[0;34m\u001b[0m\u001b[0;34m\u001b[0m\u001b[0m\n\u001b[1;32m     73\u001b[0m \u001b[0;34m\u001b[0m\u001b[0m\n\u001b[0;32m---> 74\u001b[0;31m     \u001b[0mx\u001b[0m \u001b[0;34m=\u001b[0m \u001b[0mtorch\u001b[0m\u001b[0;34m.\u001b[0m\u001b[0mrandn\u001b[0m\u001b[0;34m(\u001b[0m\u001b[0mN\u001b[0m\u001b[0;34m,\u001b[0m \u001b[0mdevice\u001b[0m\u001b[0;34m=\u001b[0m\u001b[0;34m'cuda'\u001b[0m\u001b[0;34m,\u001b[0m \u001b[0mdtype\u001b[0m\u001b[0;34m=\u001b[0m\u001b[0mtorch\u001b[0m\u001b[0;34m.\u001b[0m\u001b[0mfloat32\u001b[0m\u001b[0;34m,\u001b[0m\u001b[0mrequires_grad\u001b[0m\u001b[0;34m=\u001b[0m\u001b[0;32mTrue\u001b[0m\u001b[0;34m)\u001b[0m\u001b[0;34m\u001b[0m\u001b[0;34m\u001b[0m\u001b[0m\n\u001b[0m\u001b[1;32m     75\u001b[0m     \u001b[0mBLOCK_SIZE\u001b[0m\u001b[0;34m=\u001b[0m\u001b[0;36m1024\u001b[0m\u001b[0;34m\u001b[0m\u001b[0;34m\u001b[0m\u001b[0m\n\u001b[1;32m     76\u001b[0m     \u001b[0my_triton\u001b[0m \u001b[0;34m=\u001b[0m \u001b[0mt_r\u001b[0m\u001b[0;34m(\u001b[0m\u001b[0mx\u001b[0m\u001b[0;34m,\u001b[0m \u001b[0mBLOCK_SIZE\u001b[0m\u001b[0;34m)\u001b[0m\u001b[0;34m\u001b[0m\u001b[0;34m\u001b[0m\u001b[0m\n",
            "\u001b[0;31mRuntimeError\u001b[0m: CUDA error: an illegal memory access was encountered\nCUDA kernel errors might be asynchronously reported at some other API call, so the stacktrace below might be incorrect.\nFor debugging consider passing CUDA_LAUNCH_BLOCKING=1\nCompile with `TORCH_USE_CUDA_DSA` to enable device-side assertions.\n"
          ]
        }
      ],
      "source": [
        "import triton\n",
        "import triton.language as tl\n",
        "import torch\n",
        "import torch.nn as nn\n",
        "import time\n",
        "DEVICE = 'cuda'\n",
        "\n",
        "\n",
        "@triton.jit\n",
        "def l_r_k(x_ptr,\n",
        "          y_ptr,\n",
        "          alpha,\n",
        "          N0,\n",
        "          BLOCK_SIZE:tl.constexpr):\n",
        "\n",
        "  pid=tl.program_id(axis=0)\n",
        "  block_start= BLOCK_SIZE * pid\n",
        "  offsets = block_start + tl.arange(0, BLOCK_SIZE)\n",
        "  mask = offsets < N0\n",
        "  x=tl.load(x_ptr+offsets,mask=mask)\n",
        "  y=tl.maximum(x,alpha * x)\n",
        "  tl.store(y_ptr+offsets,y,mask=mask)\n",
        "\n",
        "\n",
        "\n",
        "def l_r_k_h(x:torch.Tensor,alpha:float=1, BLOCK_SIZE=1024**2)->torch.Tensor:\n",
        "  y=torch.empty_like(x)\n",
        "  N0=x.numel()\n",
        "  grid= lambda meta :(triton.cdiv(N0,meta['BLOCK_SIZE']),)\n",
        "  assert x.is_cuda and y.is_cuda\n",
        "  l_r_k[grid](x,y,alpha,N0,BLOCK_SIZE=BLOCK_SIZE)\n",
        "  return y,alpha\n",
        "\n",
        "def benchmark(func, *args, n_warmup=10, n_iters=100):\n",
        "    for _ in range(n_warmup):\n",
        "        func(*args)\n",
        "    torch.cuda.synchronize()\n",
        "    start = time.perf_counter()\n",
        "    for _ in range(n_iters):\n",
        "        func(*args)\n",
        "    torch.cuda.synchronize()\n",
        "    end = time.perf_counter()\n",
        "    return (end - start) / n_iters * 1000\n",
        "\n",
        "if __name__=='__main__':\n",
        "  N=1024*1024\n",
        "  x=torch.randn(N, device='cuda', dtype=torch.float32)\n",
        "\n",
        "  y_triton,alpha=l_r_k_h(x)\n",
        "  leaky_relu = nn.LeakyReLU(negative_slope=alpha)\n",
        "  y_torch = leaky_relu(x)\n",
        "\n",
        "  print(y_torch)\n",
        "  print(y_triton)\n",
        "  print(abs(y_torch-y_triton))\n",
        "\n",
        "  #Benchmarking forward pass\n",
        "  BLOCK_SIZE=1024\n",
        "  x_torch = x.detach().clone().requires_grad_()\n",
        "  leaky_relu = nn.LeakyReLU(negative_slope=alpha)\n",
        "  y_torch = leaky_relu(x)\n",
        "  triton_time = benchmark(lambda: l_r_k_h(x, BLOCK_SIZE))\n",
        "  torch_time = benchmark(lambda: leaky_relu(x))\n",
        "  print(f\"Average execution time (Forward Pass):\")\n",
        "  print(f\"  Triton LeakyReLU = {triton_time:.3f} ms\")\n",
        "  print(f\"  PyTorch LeakyReLU = {torch_time:.3f} ms\")"
      ]
    }
  ],
  "metadata": {
    "accelerator": "GPU",
    "colab": {
      "authorship_tag": "ABX9TyNrWEdQDrS7Kwn0uc5HJyoc",
      "gpuType": "T4",
      "include_colab_link": true,
      "provenance": []
    },
    "kernelspec": {
      "display_name": "Python 3",
      "name": "python3"
    },
    "language_info": {
      "name": "python"
    }
  },
  "nbformat": 4,
  "nbformat_minor": 0
}
