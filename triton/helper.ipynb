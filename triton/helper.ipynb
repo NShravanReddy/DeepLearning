{
 "cells": [
  {
   "cell_type": "code",
   "execution_count": 114,
   "id": "ce24d0f8",
   "metadata": {},
   "outputs": [
    {
     "name": "stdout",
     "output_type": "stream",
     "text": [
      "tensor(0.9996) tensor(0.9996)\n",
      "4\n"
     ]
    }
   ],
   "source": [
    "import torch\n",
    "x = torch.randn( 5, 4)\n",
    "y = torch.randn( 4, 5)\n",
    "x_1=x[1][1]\n",
    "y_1=x[1][1]\n",
    "print(x_1,y_1)\n",
    "print(x.shape[1])"
   ]
  },
  {
   "cell_type": "code",
   "execution_count": 115,
   "id": "3dd7dd0e",
   "metadata": {},
   "outputs": [
    {
     "name": "stdout",
     "output_type": "stream",
     "text": [
      "tensor(1.8052)\n"
     ]
    }
   ],
   "source": [
    "for i in range(x.shape[1]):\n",
    "    for j in range(y.shape[0]):\n",
    "        a=x[i][j]*y[i][j]\n",
    "print(a)"
   ]
  },
  {
   "cell_type": "code",
   "execution_count": 116,
   "id": "e841d163",
   "metadata": {},
   "outputs": [],
   "source": [
    "r=torch.zeros(x.shape[0],y.shape[1])"
   ]
  },
  {
   "cell_type": "code",
   "execution_count": 117,
   "id": "759c36ea",
   "metadata": {},
   "outputs": [
    {
     "name": "stdout",
     "output_type": "stream",
     "text": [
      "tensor([[ 1.6709,  0.8305, -2.2300,  5.4828,  1.6551],\n",
      "        [ 0.7129,  1.1482, -0.4092,  0.2458,  1.3723],\n",
      "        [-0.2783, -2.3986,  2.6959, -2.5034,  1.8387],\n",
      "        [ 0.5919, -1.3690, -0.0524,  1.7989,  0.8755],\n",
      "        [ 0.9347, -0.2455, -0.8542,  5.3868,  1.8799]])\n",
      "torch.Size([5, 5])\n"
     ]
    }
   ],
   "source": [
    "for i in range((x.shape[0])):\n",
    "   # iterate through columns of Y\n",
    "   for j in range((y.shape[1])):\n",
    "       # iterate through rows of Y\n",
    "       r[i][j] = (x[i] * y[:, j]).sum()\n",
    "print(r)\n",
    "print(r.shape)\n"
   ]
  }
 ],
 "metadata": {
  "kernelspec": {
   "display_name": "3.10.13",
   "language": "python",
   "name": "python3"
  },
  "language_info": {
   "codemirror_mode": {
    "name": "ipython",
    "version": 3
   },
   "file_extension": ".py",
   "mimetype": "text/x-python",
   "name": "python",
   "nbconvert_exporter": "python",
   "pygments_lexer": "ipython3",
   "version": "3.10.13"
  }
 },
 "nbformat": 4,
 "nbformat_minor": 5
}
