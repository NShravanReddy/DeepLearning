{
 "cells": [
  {
   "cell_type": "markdown",
   "metadata": {},
   "source": [
    "import torch\n",
    "\n",
    "from unet import UNet\n",
    "\n",
    "def test_unet():\n",
    "    in_channels=3\n",
    "    out_channels=1\n",
    "    model=UNet(in_channels=in_channels,out_channels=out_channels)\n",
    "    batch_size=1\n",
    "    height,width=256,256\n",
    "    x=torch.randn(batch_size,in_channels,height,width)\n",
    "    output=model(x)\n",
    "    assert output.shape==(batch_size,out_channels,height,width)\n",
    "    print(\"passed\")\n",
    "test_unet()"
   ]
  },
  {
   "cell_type": "code",
   "execution_count": 4,
   "metadata": {},
   "outputs": [
    {
     "name": "stderr",
     "output_type": "stream",
     "text": [
      "Using cache found in /Users/nshravanreddy/.cache/torch/hub/mateuszbuda_brain-segmentation-pytorch_master\n"
     ]
    }
   ],
   "source": [
    "import torch\n",
    "model = torch.hub.load('mateuszbuda/brain-segmentation-pytorch', 'unet',\n",
    "    in_channels=3, out_channels=1, init_features=32, pretrained=True)"
   ]
  },
  {
   "cell_type": "code",
   "execution_count": 6,
   "metadata": {},
   "outputs": [],
   "source": [
    "# Download an example image\n",
    "import urllib\n",
    "url, filename = (\"https://github.com/mateuszbuda/brain-segmentation-pytorch/raw/master/assets/TCGA_CS_4944.png\", \"TCGA_CS_4944.png\")\n",
    "try: urllib.URLopener().retrieve(url, filename)\n",
    "except: urllib.request.urlretrieve(url, filename)"
   ]
  },
  {
   "cell_type": "code",
   "execution_count": 7,
   "metadata": {},
   "outputs": [
    {
     "name": "stdout",
     "output_type": "stream",
     "text": [
      "tensor([[[0., 0., 0.,  ..., 0., 0., 0.],\n",
      "         [0., 0., 0.,  ..., 0., 0., 0.],\n",
      "         [0., 0., 0.,  ..., 0., 0., 0.],\n",
      "         ...,\n",
      "         [0., 0., 0.,  ..., 0., 0., 0.],\n",
      "         [0., 0., 0.,  ..., 0., 0., 0.],\n",
      "         [0., 0., 0.,  ..., 0., 0., 0.]]])\n"
     ]
    }
   ],
   "source": [
    "import numpy as np\n",
    "from PIL import Image\n",
    "from torchvision import transforms\n",
    "\n",
    "input_image = Image.open(filename)\n",
    "m, s = np.mean(input_image, axis=(0, 1)), np.std(input_image, axis=(0, 1))\n",
    "preprocess = transforms.Compose([\n",
    "    transforms.ToTensor(),\n",
    "    transforms.Normalize(mean=m, std=s),\n",
    "])\n",
    "input_tensor = preprocess(input_image)\n",
    "input_batch = input_tensor.unsqueeze(0)\n",
    "\n",
    "if torch.cuda.is_available():\n",
    "    input_batch = input_batch.to('cuda')\n",
    "    model = model.to('cuda')\n",
    "\n",
    "with torch.no_grad():\n",
    "    output = model(input_batch)\n",
    "\n",
    "print(torch.round(output[0]))"
   ]
  },
  {
   "cell_type": "code",
   "execution_count": 1,
   "metadata": {},
   "outputs": [],
   "source": [
    "import torch\n",
    "from torch import nn\n",
    "\n",
    "class DoubleConv(nn.Module):\n",
    "    def __init__(self,in_channels,out_channels):\n",
    "        super(DoubleConv,self).__init__()\n",
    "        self.conv=nn.Sequential(\n",
    "            nn.Conv2d(in_channels,out_channels,kernel_size=3,padding=1),\n",
    "            nn.ReLU(inplace=True),\n",
    "        )\n",
    "    def forward(self,x):\n",
    "        return self.conv(x)\n",
    "    \n",
    "class DownSample(nn.Module):\n",
    "    def __init__(self,in_channels,out_channels):\n",
    "        super(DownSample,self).__init__()\n",
    "        self.conv=DoubleConv(in_channels,out_channels)\n",
    "        self.pool=nn.MaxPool2d(kernel_size=2,stride=2)\n",
    "    def forward(self,x):\n",
    "        down=self.conv(x)\n",
    "        pooled=self.pool(down)\n",
    "        return down,pooled\n",
    "\n",
    "class UpSample(nn.Module):\n",
    "    def __init__(self,in_channels,out_channels):\n",
    "        super(UpSample,self).__init__()\n",
    "        self.up_conv=nn.ConvTranspose2d(in_channels,out_channels,kernel_size=2,stride=2)\n",
    "        self.conv=DoubleConv(in_channels,out_channels)\n",
    "    def forward(self,x1,x2):\n",
    "        x1=self.up_conv(x1)\n",
    "        diffX=x2.size()[2]-x1.size()[2]\n",
    "        diffY=x2.size()[3]-x1.size()[3]\n",
    "        x1=nn.functional.pad(x1,[diffX//2,diffX-diffX//2,diffY//2,diffY-diffY//2])\n",
    "        x=torch.cat([x2,x1],dim=1)\n",
    "        return self.conv(x)\n",
    "\n",
    "\n",
    "class UNet(nn.Module):\n",
    "    def __init__(self,in_channels,out_channels):\n",
    "        super(UNet,self).__init__()\n",
    "        self.down_conv_1=DownSample(in_channels,64)\n",
    "        self.down_conv_2=DownSample(64,128)\n",
    "        self.down_conv_3=DownSample(128,256)\n",
    "        self.down_conv_4=DownSample(256,512)\n",
    "\n",
    "        self.bottle_neck=DoubleConv(512,1024)\n",
    "\n",
    "        self.up_conv_1=UpSample(1024,512)\n",
    "        self.up_conv_2=UpSample(512,256)\n",
    "        self.up_conv_3=UpSample(256,128)\n",
    "        self.up_conv_4=UpSample(128,64)\n",
    "\n",
    "        self.out=nn.Conv2d(64,out_channels,kernel_size=1)\n",
    "    \n",
    "    def forward(self,x):\n",
    "        down_1, p1=self.down_conv_1(x)\n",
    "        down_2, p2=self.down_conv_2(p1)\n",
    "        down_3, p3=self.down_conv_3(p2)\n",
    "        down_4, p4=self.down_conv_4(p3)\n",
    "\n",
    "        b=self.bottle_neck(p4)\n",
    "\n",
    "        up_1=self.up_conv_1(b,down_4)\n",
    "        up_2=self.up_conv_2(up_1,down_3)\n",
    "        up_3=self.up_conv_3(up_2,down_2)\n",
    "        up_4=self.up_conv_4(up_3,down_1)\n",
    "\n",
    "        out=self.out(up_4)\n",
    "        return out"
   ]
  }
 ],
 "metadata": {
  "kernelspec": {
   "display_name": "pytorch_env",
   "language": "python",
   "name": "python3"
  },
  "language_info": {
   "codemirror_mode": {
    "name": "ipython",
    "version": 3
   },
   "file_extension": ".py",
   "mimetype": "text/x-python",
   "name": "python",
   "nbconvert_exporter": "python",
   "pygments_lexer": "ipython3",
   "version": "3.11.9"
  }
 },
 "nbformat": 4,
 "nbformat_minor": 2
}
