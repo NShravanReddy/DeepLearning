{
 "cells": [
  {
   "cell_type": "code",
   "execution_count": 1,
   "metadata": {},
   "outputs": [],
   "source": [
    "import torch"
   ]
  },
  {
   "cell_type": "code",
   "execution_count": 2,
   "metadata": {},
   "outputs": [],
   "source": [
    "b=torch.Tensor([[1,2,3,4,5,6],[7,8,9,10,11,12]])"
   ]
  },
  {
   "cell_type": "code",
   "execution_count": 7,
   "metadata": {},
   "outputs": [
    {
     "name": "stdout",
     "output_type": "stream",
     "text": [
      "tensor([[ 1.,  2.,  3.,  4.,  5.,  6.],\n",
      "        [ 7.,  8.,  9., 10., 11., 12.]])\n",
      "tensor([[ 1.,  7.],\n",
      "        [ 2.,  8.],\n",
      "        [ 3.,  9.],\n",
      "        [ 4., 10.],\n",
      "        [ 5., 11.],\n",
      "        [ 6., 12.]])\n"
     ]
    },
    {
     "data": {
      "text/plain": [
       "tensor([[ 1.,  7.,  2.,  8.],\n",
       "        [ 3.,  9.,  4., 10.],\n",
       "        [ 5., 11.,  6., 12.]])"
      ]
     },
     "execution_count": 7,
     "metadata": {},
     "output_type": "execute_result"
    }
   ],
   "source": [
    "b.reshape(shape=(3,4))\n",
    "print(b)\n",
    "f=b.T\n",
    "print(f)\n",
    "f.reshape(3,4)"
   ]
  },
  {
   "cell_type": "code",
   "execution_count": null,
   "metadata": {},
   "outputs": [],
   "source": []
  }
 ],
 "metadata": {
  "kernelspec": {
   "display_name": "pytorch_env",
   "language": "python",
   "name": "python3"
  },
  "language_info": {
   "codemirror_mode": {
    "name": "ipython",
    "version": 3
   },
   "file_extension": ".py",
   "mimetype": "text/x-python",
   "name": "python",
   "nbconvert_exporter": "python",
   "pygments_lexer": "ipython3",
   "version": "3.11.9"
  }
 },
 "nbformat": 4,
 "nbformat_minor": 2
}
