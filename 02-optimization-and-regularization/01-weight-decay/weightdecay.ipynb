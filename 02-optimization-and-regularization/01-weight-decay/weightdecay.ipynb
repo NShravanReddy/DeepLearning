{
 "cells": [
  {
   "cell_type": "code",
   "execution_count": 13,
   "metadata": {},
   "outputs": [
    {
     "data": {
      "image/png": "[encoded data removed]",
      "text/plain": [
       "<Figure size 1000x500 with 1 Axes>"
      ]
     },
     "metadata": {},
     "output_type": "display_data"
    }
   ],
   "source": [
    "import numpy as np\n",
    "import matplotlib.pyplot as plt\n",
    "import torch\n",
    "import torch.nn as nn\n",
    "import torch.optim as optim\n",
    "from sklearn.datasets import make_circles,make_moons\n",
    "from sklearn.preprocessing import StandardScaler\n",
    "\n",
    "X,y=make_moons(n_samples=1000,noise=0.1, random_state=42)\n",
    "\n",
    "\n",
    "m_x,m_y=X[0],y[0]\n",
    "plt.figure(figsize=(10,5))\n",
    "plt.plot(m_x[0],m_x[1],\"o\",markersize=10)\n",
    "plt.xlim(-2, 3)  \n",
    "plt.ylim(-1.5, 2)\n",
    "plt.show()"
   ]
  },
  {
   "cell_type": "code",
   "execution_count": 14,
   "metadata": {},
   "outputs": [],
   "source": [
    "X=StandardScaler().fit_transform(X)\n",
    "X_tensor=torch.FloatTensor(X)\n",
    "y_tensor=torch.LongTensor(y)"
   ]
  },
  {
   "cell_type": "code",
   "execution_count": 16,
   "metadata": {},
   "outputs": [
    {
     "name": "stdout",
     "output_type": "stream",
     "text": [
      "Epoch0,Loss:0.7170506715774536\n",
      "Epoch100,Loss:0.0001746348716551438\n",
      "Epoch200,Loss:5.5764317949069664e-05\n",
      "Epoch300,Loss:3.042054049728904e-05\n",
      "Epoch400,Loss:1.9047905880142935e-05\n",
      "Epoch500,Loss:1.3107227459840942e-05\n",
      "Epoch600,Loss:9.635767128202133e-06\n",
      "Epoch700,Loss:7.3816318035824224e-06\n",
      "Epoch800,Loss:5.826825599797303e-06\n",
      "Epoch900,Loss:4.700321369455196e-06\n"
     ]
    }
   ],
   "source": [
    "class Net(nn.Module):\n",
    "    def __init__(self):\n",
    "        super(Net,self).__init__()\n",
    "        self.fc1=nn.Linear(2,100)\n",
    "        self.fc2=nn.Linear(100,100)\n",
    "        self.fc3=nn.Linear(100,2)\n",
    "    def forward(self,x):\n",
    "        x=torch.relu(self.fc1(x))\n",
    "        x=torch.relu(self.fc2(x))\n",
    "        x=self.fc3(x)\n",
    "        return x\n",
    "def train(model,X,y,optimizer,criterion,epochs=1000,l2_lambda=0):\n",
    "    for epoch in range(epochs):\n",
    "        optimizer.zero_grad()\n",
    "        outputs=model(X)\n",
    "        loss=criterion(outputs,y)\n",
    "\n",
    "        if l2_lambda>0:\n",
    "            l2_reg=torch.tensor(0.)\n",
    "            for parm in model.parameters():\n",
    "                l2_reg+=torch.norm(parm,2)\n",
    "            loss+=l2_lambda * l2_lambda\n",
    "        loss.backward()\n",
    "        optimizer.step()\n",
    "\n",
    "        if epoch % 100 ==0:\n",
    "            print(f'Epoch{epoch},Loss:{loss.item()}')\n",
    "        \n",
    "model_without_l2=Net()\n",
    "criterion=nn.CrossEntropyLoss()\n",
    "optimizer=optim.Adam(model_without_l2.parameters(),lr=0.1)\n",
    "train(model_without_l2,X_tensor,y_tensor,optimizer,criterion)"
   ]
  },
  {
   "cell_type": "code",
   "execution_count": 17,
   "metadata": {},
   "outputs": [
    {
     "name": "stdout",
     "output_type": "stream",
     "text": [
      "Epoch0,Loss:0.7287986874580383\n",
      "Epoch100,Loss:0.010334571823477745\n",
      "Epoch200,Loss:0.010145805776119232\n",
      "Epoch300,Loss:0.010077765211462975\n",
      "Epoch400,Loss:0.010047717951238155\n",
      "Epoch500,Loss:0.010032006539404392\n",
      "Epoch600,Loss:0.0100228451192379\n",
      "Epoch700,Loss:0.010017041116952896\n",
      "Epoch800,Loss:0.01001314353197813\n",
      "Epoch900,Loss:0.010010412894189358\n"
     ]
    }
   ],
   "source": [
    "model_with_l2=Net()\n",
    "optimizer=optim.Adam(model_with_l2.parameters(),lr=0.01)\n",
    "train(model_with_l2,X_tensor,y_tensor,optimizer,criterion,l2_lambda=0.1)"
   ]
  },
  {
   "cell_type": "code",
   "execution_count": null,
   "metadata": {},
   "outputs": [],
   "source": []
  }
 ],
 "metadata": {
  "kernelspec": {
   "display_name": "pytorch_env",
   "language": "python",
   "name": "python3"
  },
  "language_info": {
   "codemirror_mode": {
    "name": "ipython",
    "version": 3
   },
   "file_extension": ".py",
   "mimetype": "text/x-python",
   "name": "python",
   "nbconvert_exporter": "python",
   "pygments_lexer": "ipython3",
   "version": "3.11.9"
  }
 },
 "nbformat": 4,
 "nbformat_minor": 2
}
