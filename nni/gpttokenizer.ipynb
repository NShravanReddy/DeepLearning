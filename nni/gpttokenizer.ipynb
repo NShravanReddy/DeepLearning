{
 "cells": [
  {
   "cell_type": "code",
   "execution_count": 2,
   "metadata": {},
   "outputs": [
    {
     "data": {
      "text/plain": [
       "97"
      ]
     },
     "execution_count": 2,
     "metadata": {},
     "output_type": "execute_result"
    }
   ],
   "source": [
    "ord('a')"
   ]
  },
  {
   "cell_type": "code",
   "execution_count": 3,
   "metadata": {},
   "outputs": [
    {
     "data": {
      "text/plain": [
       "[72,\n",
       " 101,\n",
       " 108,\n",
       " 108,\n",
       " 111,\n",
       " 32,\n",
       " 109,\n",
       " 121,\n",
       " 32,\n",
       " 110,\n",
       " 97,\n",
       " 109,\n",
       " 101,\n",
       " 32,\n",
       " 105,\n",
       " 115,\n",
       " 32,\n",
       " 110,\n",
       " 115,\n",
       " 114]"
      ]
     },
     "execution_count": 3,
     "metadata": {},
     "output_type": "execute_result"
    }
   ],
   "source": [
    "[ord(x) for x in \"Hello my name is nsr\"]"
   ]
  },
  {
   "cell_type": "code",
   "execution_count": 4,
   "metadata": {},
   "outputs": [
    {
     "data": {
      "text/plain": [
       "[40,\n",
       " 72,\n",
       " 101,\n",
       " 108,\n",
       " 108,\n",
       " 111,\n",
       " 32,\n",
       " 109,\n",
       " 121,\n",
       " 32,\n",
       " 110,\n",
       " 97,\n",
       " 109,\n",
       " 101,\n",
       " 32,\n",
       " 105,\n",
       " 115,\n",
       " 32,\n",
       " 110,\n",
       " 115,\n",
       " 114,\n",
       " 41]"
      ]
     },
     "execution_count": 4,
     "metadata": {},
     "output_type": "execute_result"
    }
   ],
   "source": [
    "list(\"(Hello my name is nsr)\".encode(\"utf-8\"))"
   ]
  },
  {
   "cell_type": "code",
   "execution_count": 40,
   "metadata": {},
   "outputs": [
    {
     "name": "stdout",
     "output_type": "stream",
     "text": [
      "b'Hello there Hello Hello'\n",
      "[72, 101, 108, 108, 111, 32, 116, 104, 101, 114, 101, 32, 72, 101, 108, 108, 111, 32, 72, 101, 108, 108, 111]\n",
      "23 23\n"
     ]
    }
   ],
   "source": [
    "text=\"Hello there Hello Hello\"\n",
    "tokens=text.encode('utf-8')\n",
    "print(tokens)\n",
    "tokens=list(map(int,tokens)) # map will iterate through every element in tokens and apply int\n",
    "print(tokens)\n",
    "print(len(text),len(tokens))"
   ]
  },
  {
   "cell_type": "code",
   "execution_count": 41,
   "metadata": {},
   "outputs": [],
   "source": [
    "def get_stats(ids):\n",
    "    c={}\n",
    "    for i in zip(tokens,tokens[1:]):\n",
    "        c[i]=c.get(i,0)+1\n",
    "    return c\n",
    "stats=get_stats(tokens)\n",
    "#print(sorted(((v,k) for k,v in stats.items()),reverse=True))"
   ]
  },
  {
   "cell_type": "code",
   "execution_count": 42,
   "metadata": {},
   "outputs": [
    {
     "data": {
      "text/plain": [
       "(72, 101)"
      ]
     },
     "execution_count": 42,
     "metadata": {},
     "output_type": "execute_result"
    }
   ],
   "source": [
    "top_pair=max(stats,key=stats.get)\n",
    "top_pair"
   ]
  },
  {
   "cell_type": "code",
   "execution_count": 43,
   "metadata": {},
   "outputs": [
    {
     "name": "stdout",
     "output_type": "stream",
     "text": [
      "[5, 6, 99, 9, 1]\n",
      "[72, 101, 108, 108, 111, 32, 116, 104, 101, 114, 101, 32, 72, 101, 108, 108, 111, 32, 72, 101, 108, 108, 111]\n",
      "23 23\n"
     ]
    }
   ],
   "source": [
    "def merge(ids,pair,idx):\n",
    "    newids=[]\n",
    "    i=0\n",
    "    while i<len(ids):\n",
    "        if i<len(ids)-1 and ids[1]==pair[0] and ids[i+1]==pair[1]:\n",
    "            newids.append(idx)\n",
    "            i+=2\n",
    "        else:\n",
    "            newids.append(ids[i])\n",
    "            i+=1\n",
    "    return newids\n",
    "print(merge([5,6,6,7,9,1],(6,7),99))\n",
    "tokens2=merge(tokens,top_pair,256)\n",
    "print(tokens2)\n",
    "print(len(tokens),len(tokens2))"
   ]
  },
  {
   "cell_type": "code",
   "execution_count": 45,
   "metadata": {},
   "outputs": [
    {
     "name": "stdout",
     "output_type": "stream",
     "text": [
      "merging (72, 101) into a new token 256\n",
      "merging (72, 101) into a new token 257\n",
      "merging (72, 101) into a new token 258\n",
      "merging (72, 101) into a new token 259\n",
      "merging (72, 101) into a new token 260\n",
      "merging (72, 101) into a new token 261\n",
      "merging (72, 101) into a new token 262\n",
      "merging (72, 101) into a new token 263\n",
      "merging (72, 101) into a new token 264\n",
      "merging (72, 101) into a new token 265\n",
      "merging (72, 101) into a new token 266\n",
      "merging (72, 101) into a new token 267\n",
      "merging (72, 101) into a new token 268\n",
      "merging (72, 101) into a new token 269\n",
      "merging (72, 101) into a new token 270\n",
      "merging (72, 101) into a new token 271\n",
      "merging (72, 101) into a new token 272\n",
      "merging (72, 101) into a new token 273\n",
      "merging (72, 101) into a new token 274\n",
      "merging (72, 101) into a new token 275\n"
     ]
    }
   ],
   "source": [
    "vocab_size= 276\n",
    "num_merges=vocab_size-256\n",
    "ids=list(tokens)\n",
    "\n",
    "merges={}\n",
    "for i in range(num_merges):\n",
    "    stats=get_stats(ids)\n",
    "    pair=max(stats,key=stats.get)\n",
    "    idx=256+i\n",
    "    print(f\"merging {pair} into a new token {idx}\")\n",
    "    ids=merge(ids,pair, idx)\n",
    "    merges[pair]=idx"
   ]
  },
  {
   "cell_type": "code",
   "execution_count": 48,
   "metadata": {},
   "outputs": [
    {
     "data": {
      "text/plain": [
       "1.0"
      ]
     },
     "execution_count": 48,
     "metadata": {},
     "output_type": "execute_result"
    }
   ],
   "source": [
    "len(tokens)/len(ids)"
   ]
  },
  {
   "cell_type": "code",
   "execution_count": null,
   "metadata": {},
   "outputs": [],
   "source": []
  }
 ],
 "metadata": {
  "kernelspec": {
   "display_name": "pytorch_env",
   "language": "python",
   "name": "python3"
  },
  "language_info": {
   "codemirror_mode": {
    "name": "ipython",
    "version": 3
   },
   "file_extension": ".py",
   "mimetype": "text/x-python",
   "name": "python",
   "nbconvert_exporter": "python",
   "pygments_lexer": "ipython3",
   "version": "3.11.9"
  }
 },
 "nbformat": 4,
 "nbformat_minor": 2
}
